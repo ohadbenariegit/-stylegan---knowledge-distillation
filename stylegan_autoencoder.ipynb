{
  "cells": [
    {
      "cell_type": "markdown",
      "metadata": {
        "id": "M2s54MyLEs2k"
      },
      "source": [
        "# **Setup**"
      ]
    },
    {
      "cell_type": "code",
      "execution_count": null,
      "metadata": {
        "colab": {
          "base_uri": "https://localhost:8080/"
        },
        "id": "21J1YG9ZSjRg",
        "outputId": "7214dad2-ce9b-4d13-e4d4-a961bcae30a5"
      },
      "outputs": [
        {
          "name": "stdout",
          "output_type": "stream",
          "text": [
            "Cloning into 'stylegan2-ada-pytorch'...\n",
            "remote: Enumerating objects: 544, done.\u001b[K\n",
            "remote: Total 544 (delta 0), reused 0 (delta 0), pack-reused 544\u001b[K\n",
            "Receiving objects: 100% (544/544), 8.42 MiB | 18.82 MiB/s, done.\n",
            "Resolving deltas: 100% (308/308), done.\n",
            "Cloning into 'stylegan2-pytorch'...\n",
            "remote: Enumerating objects: 395, done.\u001b[K\n",
            "remote: Total 395 (delta 0), reused 0 (delta 0), pack-reused 395\u001b[K\n",
            "Receiving objects: 100% (395/395), 122.51 MiB | 15.32 MiB/s, done.\n",
            "Resolving deltas: 100% (205/205), done.\n",
            "Looking in indexes: https://pypi.org/simple, https://us-python.pkg.dev/colab-wheels/public/simple/\n",
            "Collecting ninja\n",
            "  Downloading ninja-1.11.1-py2.py3-none-manylinux_2_12_x86_64.manylinux2010_x86_64.whl (145 kB)\n",
            "\u001b[2K     \u001b[90m━━━━━━━━━━━━━━━━━━━━━━━━━━━━━━━━━━━━━━\u001b[0m \u001b[32m146.0/146.0 KB\u001b[0m \u001b[31m12.2 MB/s\u001b[0m eta \u001b[36m0:00:00\u001b[0m\n",
            "\u001b[?25hInstalling collected packages: ninja\n",
            "Successfully installed ninja-1.11.1\n"
          ]
        }
      ],
      "source": [
        "!git clone https://github.com/dvschultz/stylegan2-ada-pytorch/\n",
        "!git clone https://github.com/rosinality/stylegan2-pytorch\n",
        "!pip install ninja"
      ]
    },
    {
      "cell_type": "code",
      "execution_count": null,
      "metadata": {
        "colab": {
          "base_uri": "https://localhost:8080/"
        },
        "id": "ygzvMU7I1GBl",
        "outputId": "9270421c-bf89-4387-cdd7-49496496d73c"
      },
      "outputs": [
        {
          "name": "stdout",
          "output_type": "stream",
          "text": [
            "/content/stylegan2-ada-pytorch\n",
            "Downloading https://nvlabs-fi-cdn.nvidia.com/stylegan2-ada-pytorch/pretrained/ffhq.pkl ... done\n"
          ]
        }
      ],
      "source": [
        "%cd /content/stylegan2-ada-pytorch/\n",
        "!python export_weights.py https://nvlabs-fi-cdn.nvidia.com/stylegan2-ada-pytorch/pretrained/ffhq.pkl /content/saved_model.pkl"
      ]
    },
    {
      "cell_type": "code",
      "execution_count": null,
      "metadata": {
        "colab": {
          "base_uri": "https://localhost:8080/"
        },
        "id": "6av1snW50_i8",
        "outputId": "b80550ee-7bca-4132-d9dd-0ada2e4c6239"
      },
      "outputs": [
        {
          "name": "stdout",
          "output_type": "stream",
          "text": [
            "/content\n",
            "/content/results\n",
            "/content/stylegan2-pytorch\n"
          ]
        }
      ],
      "source": [
        "%cd /content\n",
        "# Folders for the trained models and training information.\n",
        "!mkdir results\n",
        "%cd ./results\n",
        "!mkdir checkpoints\n",
        "!mkdir normalize_losses\n",
        "!mkdir absolute_losses\n",
        "!mkdir final_loss\n",
        "%cd /content/stylegan2-pytorch/"
      ]
    },
    {
      "cell_type": "code",
      "execution_count": null,
      "metadata": {
        "colab": {
          "base_uri": "https://localhost:8080/"
        },
        "id": "gLX2jANzMTKf",
        "outputId": "761d64e2-22b3-47aa-ded1-ce8f50561785"
      },
      "outputs": [
        {
          "name": "stdout",
          "output_type": "stream",
          "text": [
            "\r  0% 0/1 [00:00<?, ?it/s]/content/stylegan2-pytorch/op/conv2d_gradfix.py:88: UserWarning: conv2d_gradfix not supported on PyTorch 1.13.1+cu116. Falling back to torch.nn.functional.conv2d().\n",
            "  warnings.warn(\n",
            "100% 1/1 [00:03<00:00,  3.79s/it]\n"
          ]
        }
      ],
      "source": [
        "# Without this there is a problem with import some models.\n",
        "!python generate.py --size 1024 --pics 1 --ckpt /content/saved_model.pkl --truncation 0.5"
      ]
    },
    {
      "cell_type": "markdown",
      "metadata": {
        "id": "jIdyUEWbRPtW"
      },
      "source": [
        "# **Main Code**"
      ]
    },
    {
      "cell_type": "code",
      "execution_count": null,
      "metadata": {
        "id": "cEHrIu-GRSrt"
      },
      "outputs": [],
      "source": [
        "import torch.nn as nn\n",
        "import torch.optim as optim\n",
        "from torch.optim import Optimizer\n",
        "import torch\n",
        "from model import Generator, StyledConv\n",
        "from torch import Tensor\n",
        "from typing import Optional, Tuple, List, Union\n",
        "import pickle\n",
        "import math\n",
        "\n",
        "\n",
        "# Generator with bottleneck at the given block_index.\n",
        "# In this class and in general in this code block_index refers to the index of StyledConv block in the generator.\n",
        "class GeneratorWithBottleneck(nn.Module):\n",
        "    def __init__(self, generator: Generator,channels_num: int, block_index:int, validation_size: int=30) -> None:\n",
        "        super().__init__()\n",
        "        self.bottleneck=BottleNeck(channels_num, get_channels_num_at_block_index(generator, block_index)).to(\"cuda\")\n",
        "        self.block_index=block_index\n",
        "        self.generator=generator\n",
        "        self.train_normalize_losses=[]\n",
        "        self.train_absolute_losses=[]\n",
        "\n",
        "        self.best_validation_loss=float('inf')\n",
        "        self.validation_set=create_latent_batches_list(generator, length=validation_size)\n",
        "\n",
        "    def forward(self, latent: Tensor) -> Tensor:\n",
        "        return forward_with_bottleneck(self.generator, self.bottleneck, self.block_index, latent)\n",
        "    \n",
        "    # Return the loss on the validation set of this model.\n",
        "    def validate(self, save_best_model: bool=False) -> float:\n",
        "        loss= evaluate_list(self, self.validation_set)\n",
        "        if loss<self.best_validation_loss and save_best_model:\n",
        "            self.best_validation_loss=loss\n",
        "            save_model(self)\n",
        "        \n",
        "        return loss\n",
        "    \n",
        "    # Returns the input to the bottleneck.\n",
        "    def get_bottleneck_input(self, latent: Tensor) -> Tensor:\n",
        "        with torch.no_grad():\n",
        "            return forward_to_conv(self.generator, self.block_index, latent)\n",
        "\n",
        "    # Evaluate this model.\n",
        "    def evaluate(self, batches: int=200, save_evaluation: bool=False) -> float:\n",
        "        with torch.no_grad():\n",
        "            return evaluate_generator_with_bottleneck(self, batches=batches, save_evaluation=save_evaluation)\n",
        "    \n",
        "    # Saves the model.\n",
        "    def save(self) -> None:\n",
        "        save_model(self)\n",
        "        self.save_train_losses()\n",
        "\n",
        "    # Saves train_losses.\n",
        "    def save_train_losses(self) -> None:\n",
        "        with open(path_to_normalize_losses(self.block_index, self.bottleneck.channels_num), \"wb\") as fp:   \n",
        "            pickle.dump(self.train_normalize_losses, fp)\n",
        "        with open(path_to_absolute_losses(self.block_index, self.bottleneck.channels_num), \"wb\") as fp:   \n",
        "            pickle.dump(self.train_absolute_losses, fp)\n",
        "\n",
        "    # Trains the model.\n",
        "    def train(self, batches:int =15000) -> None:\n",
        "        train(self, batches=batches)\n",
        "\n",
        "    # Returns a latent code for this model.\n",
        "    def get_latent(self, batch_size=32) -> Tensor:\n",
        "        return get_latent(self.generator, batch_size)\n",
        "\n",
        "\n",
        "# The bottleneck network.\n",
        "class BottleNeck(nn.Module):\n",
        "    def __init__(self, channels_num: int, original_channels: int) -> None:\n",
        "        super().__init__()\n",
        "        self.channels_num = channels_num\n",
        "        self.original_channels = original_channels\n",
        "        self.conv1 = nn.Conv2d(original_channels, channels_num, 1, bias=False)\n",
        "        self.conv2 = nn.Conv2d(channels_num, original_channels, 1, bias=False)\n",
        "\n",
        "    def forward(self, input: Tensor) -> Tensor:\n",
        "        return self.conv2(self.conv1(input))\n",
        "\n",
        "# Saves the model.\n",
        "def save_model(model: GeneratorWithBottleneck) -> None:\n",
        "    torch.save({\n",
        "            'model_state_dict': model.bottleneck.state_dict(),\n",
        "       }, path_to_checkpoint(model.block_index, model.bottleneck.channels_num))\n",
        "\n",
        "# Returns the trained model with the given arguments.\n",
        "def load_model(generator: Generator, channels_num: int, block_index: int) -> GeneratorWithBottleneck:\n",
        "    model=GeneratorWithBottleneck(generator, channels_num, block_index).to(\"cuda\")\n",
        "    checkpoint = torch.load(path_to_checkpoint(block_index, channels_num))\n",
        "    model.bottleneck.load_state_dict(checkpoint['model_state_dict'])\n",
        "    with open(path_to_normalize_losses(block_index, channels_num), \"rb\") as fp:   \n",
        "            model.train_normalize_losses=pickle.load(fp)\n",
        "    with open(path_to_absolute_losses(block_index, channels_num), \"rb\") as fp:   \n",
        "            model.train_absolute_losses=pickle.load(fp)\n",
        "    model.validation_set=(create_latent_batches_list(generator))\n",
        "    model.best_validation_loss=evaluate_list(model, model.validation_set)\n",
        "    return model\n",
        "\n",
        "# Returns the path to the final_loss identified by block_index and channels_num\n",
        "def path_to_final_loss(block_index: int, channels_num: int) -> str:\n",
        "    return \"/content/results/final_loss/block_index={}__channels_num={}\".format(block_index, channels_num)\n",
        "\n",
        "# Returns the path to the losses list identified by block_index and channels_num\n",
        "def path_to_normalize_losses(block_index: int, channels_num: int) -> str:\n",
        "    return \"/content/results/normalize_losses/block_index={}__channels_num={}\".format(block_index, channels_num)\n",
        "\n",
        "# Returns the path to the losses list identified by block_index and channels_num\n",
        "def path_to_absolute_losses(block_index: int, channels_num: int) -> str:\n",
        "    return \"/content/results/absolute_losses/block_index={}__channels_num={}\".format(block_index, channels_num)\n",
        "\n",
        "# Returns the path to the checkpoint identified by block_index and channels_num\n",
        "def path_to_checkpoint(block_index: int, channels_num: int) -> str:\n",
        "    return \"/content/results/checkpoints/block_index={}__channels_num={}\".format(block_index, channels_num)\n",
        "# Returns the output channels num of block_index in generator.    \n",
        "def get_channels_num_at_block_index(generator: Generator, block_index: int) -> int:\n",
        "    # The index of block_index channels in the channels list of the generator.\n",
        "    channel_index=int(math.ceil(block_index/2))\n",
        "    return generator.channels[4*(2**channel_index)]\n",
        "\n",
        "# Creates a list with batches of latent codes.\n",
        "def create_latent_batches_list(generator: Generator, batch_size:int=32, length: int=30)-> List[Tensor]:\n",
        "    validation_set=[]\n",
        "    for i in range(length):\n",
        "        validation_set.append(get_latent(generator,batch_size))\n",
        "    return validation_set\n",
        "\n",
        "# Given a list of batches returns the loss of the model on this batches.\n",
        "def evaluate_list(model: GeneratorWithBottleneck, batches: List[Tensor]) -> float:\n",
        "    loss=0\n",
        "    total_samples=0\n",
        "    for batch in batches:\n",
        "        total_samples+=batch.size(0)\n",
        "        cur_loss, _=get_reconstruction_loss(model, latent=batch)\n",
        "        loss+=cur_loss.item()\n",
        "    loss/=total_samples\n",
        "    return loss\n",
        "\n",
        "# Evaluate the loss of model. \n",
        "@torch.no_grad() \n",
        "def evaluate_generator_with_bottleneck(model: GeneratorWithBottleneck, batches: int=100, batch_size: int=32, save_evaluation: bool =True ) -> float:\n",
        "    final_loss = 0\n",
        "    for i in range(batches):\n",
        "        loss , _= get_reconstruction_loss(model, batch_size)\n",
        "        final_loss+=loss.item()\n",
        "    final_loss /= (batches*batch_size)\n",
        "\n",
        "    if save_evaluation:\n",
        "        with open(path_to_final_loss(model.block_index, model.bottleneck.channels_num), \"wb\") as fp:   \n",
        "            pickle.dump(final_loss, fp)\n",
        "    return final_loss\n",
        "\n",
        "# Returns a latent code for the generator.\n",
        "def get_latent(generator: Generator, batch_size:int =32) -> Tensor:\n",
        "    style=generator.style(torch.randn(batch_size, 512).to(\"cuda\"))\n",
        "    latent = style.unsqueeze(1).repeat(1, generator.n_latent, 1)\n",
        "    return latent\n",
        "\n",
        "# Given style returns the latent for this generator.\n",
        "def get_latent_from_style(generator: Generator, style: Tensor) -> Tensor:\n",
        "    style=generator.style(style)\n",
        "    latent = style.unsqueeze(1).repeat(1, generator.n_latent, 1)\n",
        "    return latent\n",
        "\n",
        "# Retruns [loss, normalize_loss] given a model. \n",
        "# The loss is MSE reconstruction of the bottleneck. \n",
        "def get_reconstruction_loss(model: GeneratorWithBottleneck, batch_size: int=32, latent: Optional[Tensor]=None) -> Tuple[Tensor, float]:\n",
        "    if latent is None:\n",
        "        latent = model.get_latent(batch_size)\n",
        "    bottle_input=model.get_bottleneck_input(latent)\n",
        "    bottle_output=model.bottleneck(bottle_input)\n",
        "    loss=torch.mean((bottle_output - bottle_input)**2)\n",
        "    normalize_loss=loss.item()/torch.mean(bottle_output**2).item()\n",
        "    return loss, normalize_loss\n",
        "\n",
        "# Trains the model (bottleneck) with the given arguments.\n",
        "def train(model: GeneratorWithBottleneck, optimizer: Optional[Optimizer] = None, batches: int= 15000, batch_size: int=32, \n",
        "          report_every: int=10, validation_every: int=100, max_reports_without_improve: int = float('inf'), print_progress=True) -> None:\n",
        "    if optimizer is None:\n",
        "        optimizer = optim.Adam(model.bottleneck.parameters(), lr=0.1)\n",
        "    best_loss = float('inf')\n",
        "    reports_without_improve = 0\n",
        "    for it in range(batches):\n",
        "        optimizer.zero_grad()\n",
        "        cur_loss, normalize_loss = get_reconstruction_loss(model, batch_size)\n",
        "        cur_loss.backward()\n",
        "        optimizer.step()\n",
        "        if it%report_every==0:\n",
        "            model.train_absolute_losses.append(cur_loss.item())\n",
        "            model.train_normalize_losses.append(normalize_loss)\n",
        "            if print_progress:\n",
        "                print(\"   batch {}: {}\".format(it,normalize_loss))\n",
        "            # Stop if there isn't improvement in the loss.\n",
        "            if best_loss < normalize_loss:\n",
        "                reports_without_improve += 1\n",
        "                if reports_without_improve == max_reports_without_improve:\n",
        "                    break\n",
        "            else:\n",
        "                reports_without_improve = 0\n",
        "                best_loss = normalize_loss\n",
        "        if it%validation_every==0:\n",
        "            model.validate(save_best_model=True)\n",
        "\n",
        "# Forward in the generator to the block_index StyledConv and in this block forward after the convolution.\n",
        "def forward_to_conv(generator: Generator, block_index: int, \n",
        "                    latent: Tensor, ) -> Tensor:\n",
        "    noise = [\n",
        "                getattr(generator.noises, f\"noise_{i}\") for i in range(generator.num_layers)\n",
        "            ]\n",
        "    out = generator.input(latent)\n",
        "    cur_block = 0\n",
        "    if block_index == cur_block:\n",
        "        output = to_conv(generator.conv1, out, latent[:, 0])\n",
        "        return output\n",
        "\n",
        "    cur_block = 1\n",
        "    out = generator.conv1(out, latent[:, 0], noise=noise[0])\n",
        "    skip = generator.to_rgb1(out, latent[:, 1])\n",
        "\n",
        "    i = 1\n",
        "    for conv1, conv2, noise1, noise2, to_rgb in zip(\n",
        "        generator.convs[::2], generator.convs[1::2], noise[1::2], noise[2::2], generator.to_rgbs\n",
        "    ):\n",
        "        if cur_block == block_index:\n",
        "            output = to_conv(conv1, out, latent[:, i])\n",
        "            return output\n",
        "        out = conv1(out, latent[:, i], noise=noise1)\n",
        "        cur_block += 1\n",
        "\n",
        "        if cur_block == block_index:\n",
        "            output = to_conv(conv2, out, latent[:, i+1])\n",
        "            return output\n",
        "        out = conv2(out, latent[:, i+1], noise=noise2)\n",
        "        skip = to_rgb(out, latent[:, i + 2], skip)\n",
        "        cur_block += 1\n",
        "\n",
        "        i += 2\n",
        "\n",
        "    image = skip\n",
        "    return image\n",
        "\n",
        "# Forward in the generator to the block_index StyledConv and in this block forward after the convolution.\n",
        "def forward_with_bottleneck(generator: Generator, bottleneck: BottleNeck, block_index: int, \n",
        "        latent: Tensor) -> Tensor:\n",
        "\n",
        "    noise = [\n",
        "                getattr(generator.noises, f\"noise_{i}\") for i in range(generator.num_layers)\n",
        "            ]\n",
        "    out = generator.input(latent)\n",
        "    cur_block = 0\n",
        "    if block_index == cur_block:\n",
        "        out = forward_style_conv_with_bottleneck(\n",
        "            generator.conv1, bottleneck, out, latent[:, 0], noise[0])\n",
        "    else:\n",
        "        out = generator.conv1(out, latent[:, 0], noise=noise[0])\n",
        "\n",
        "    skip = generator.to_rgb1(out, latent[:, 1])\n",
        "    cur_block = 1\n",
        "\n",
        "    i = 1\n",
        "    for conv1, conv2, noise1, noise2, to_rgb in zip(\n",
        "        generator.convs[::2], generator.convs[1::2], noise[1::2], noise[2::2], generator.to_rgbs\n",
        "    ):\n",
        "        if cur_block == block_index:\n",
        "            out = forward_style_conv_with_bottleneck(\n",
        "                conv1, bottleneck, out, latent[:, i], noise1)\n",
        "        else:\n",
        "            out = conv1(out, latent[:, i], noise=noise1)\n",
        "        cur_block += 1\n",
        "\n",
        "        if cur_block == block_index:\n",
        "            out = forward_style_conv_with_bottleneck(\n",
        "                conv2, bottleneck, out, latent[:, i+1], noise2)\n",
        "        else:\n",
        "            out = conv2(out, latent[:, i+1], noise=noise2)\n",
        "        skip = to_rgb(out, latent[:, i + 2], skip)\n",
        "        cur_block += 1\n",
        "\n",
        "        i += 2\n",
        "\n",
        "    image = skip\n",
        "    return image\n",
        "\n",
        "# Returns the output right after the convolution.\n",
        "def to_conv(style_conv: StyledConv, input: Tensor, style: Tensor) -> Tensor:\n",
        "    return style_conv.conv(input, style)\n",
        "\n",
        "# Returns the output from the conv of the style_conv.\n",
        "def from_conv(style_conv: StyledConv, input: Tensor, noise: Tensor) -> Tensor:\n",
        "    out = style_conv.noise(input, noise=noise)\n",
        "    out = style_conv.activate(out)\n",
        "    return out\n",
        "\n",
        "# Forward in the style_block from right after the conv layer.\n",
        "def forward_style_conv_with_bottleneck(style_conv: StyledConv, bottleneck: BottleNeck, input: Tensor, style: Tensor,\n",
        "                                        noise: Tensor) -> Tensor:\n",
        "    out = to_conv(style_conv, input, style)\n",
        "    out = bottleneck(out)\n",
        "    out = from_conv(style_conv, out, noise)\n",
        "    return out"
      ]
    },
    {
      "cell_type": "code",
      "execution_count": null,
      "metadata": {
        "id": "ARwbUccqqJuW"
      },
      "outputs": [],
      "source": [
        "!unzip /content/results.zip -d /content"
      ]
    },
    {
      "cell_type": "markdown",
      "metadata": {
        "id": "94C4zgZReeft"
      },
      "source": [
        "# **Basic Expirements**"
      ]
    },
    {
      "cell_type": "markdown",
      "metadata": {
        "id": "yf-ioh48jtV6"
      },
      "source": [
        "In our basic experiment, we train a bottleneck with different channel numbers in block_index=2."
      ]
    },
    {
      "cell_type": "code",
      "execution_count": null,
      "metadata": {
        "id": "PiTi90W0QpM_"
      },
      "outputs": [],
      "source": [
        "# Creates the original generator using stylegan-ada weights.\n",
        "gen = Generator(size=1024, style_dim=512, n_mlp=8).to(\"cuda\")\n",
        "checkpoint = torch.load(\"../saved_model.pkl\")\n",
        "gen.load_state_dict(checkpoint[\"g_ema\"])\n",
        "gen.eval()\n",
        "gen.to(\"cuda\")"
      ]
    },
    {
      "cell_type": "code",
      "execution_count": null,
      "metadata": {
        "id": "g9Poo9iwED-R"
      },
      "outputs": [],
      "source": [
        "channels_list=[512,300,100,50,10,5,1]\n",
        "block_index=2\n",
        "\n",
        "for channels_num in channels_list:\n",
        "  print(\"Start for {}:\".format(channels_num))\n",
        "  model=GeneratorWithBottleneck(gen, channels_num, block_index)\n",
        "  model.train(batches=15000)\n",
        "  model.save_train_losses()\n",
        "  model.evaluate(batches=500, save_evaluation=True)"
      ]
    },
    {
      "cell_type": "code",
      "execution_count": null,
      "metadata": {
        "id": "UNK92eJDgyhP"
      },
      "outputs": [],
      "source": [
        "# Download the results.\n",
        "!zip -r /content/results.zip /content/results\n",
        "\n",
        "from google.colab import files\n",
        "files.download(\"/content/results.zip\")"
      ]
    },
    {
      "cell_type": "markdown",
      "metadata": {
        "id": "UlblDPMnX11h"
      },
      "source": [
        "# **Visual Results**"
      ]
    },
    {
      "cell_type": "code",
      "execution_count": null,
      "metadata": {
        "id": "2fEy5RyTX5op"
      },
      "outputs": [],
      "source": [
        "from PIL import Image\n",
        "from torchvision.utils import make_grid\n",
        "\n",
        "\n",
        "# Shows the tensor as an image.\n",
        "@torch.no_grad()\n",
        "def show_images(tensors: Union[Tensor, List[Tensor]], nrow: int=1) -> None:\n",
        "    grid=make_grid(tensors, nrow=nrow, padding=0).permute(1, 2, 0)\n",
        "    to_numpy=grid.to(\"cpu\", torch.uint8).numpy()\n",
        "    image = Image.fromarray(to_numpy)\n",
        "    image.show()\n",
        "\n",
        "# Decideds a random latent code and show the images the generator create with it without bottleneck and\n",
        "# With each bottleneck in the list bottlenecks.\n",
        "# The order of the images is first the generator output and then models by the order.\n",
        "# We assume here that the models use the given generator. \n",
        "@torch.no_grad()\n",
        "def show_images_with_bottlenecks(generator: Generator, models: List[GeneratorWithBottleneck], latent: Optional[Tensor]=None)-> None:\n",
        "    if latent is None:\n",
        "        latent=get_latent(generator, batch_size=1)\n",
        "    images=[]\n",
        "    original_image=generator([latent], input_is_latent=True, randomize_noise=False)[0]\n",
        "    images.append(tensor_to_image_tensor(original_image)[0])\n",
        "    for model in models:\n",
        "        output=model(latent)\n",
        "        images.append(tensor_to_image_tensor(output)[0])\n",
        "    show_images(images, nrow=len(images))\n",
        "\n",
        "# Takes a batch of tenstors and return the batch as images.\n",
        "def tensor_to_image_tensor(tensor: Tensor) -> Tensor:\n",
        "    for i in range(tensor.size(0)):\n",
        "        tensor[i] -= torch.min(tensor[i])\n",
        "        tensor[i] /= torch.max(tensor[i])\n",
        "    tensor.mul_(255).add_(0.5).clamp_(0, 255)\n",
        "    return tensor"
      ]
    },
    {
      "cell_type": "code",
      "execution_count": null,
      "metadata": {
        "id": "HFkJ0joiZLDQ"
      },
      "outputs": [],
      "source": [
        "show_images_with_bottlenecks(gen, models, latent=get_latent_from_style(gen,data[9]))"
      ]
    },
    {
      "cell_type": "markdown",
      "metadata": {
        "id": "kB2SBYQ4g9NH"
      },
      "source": [
        "\n",
        "# **Numerical results**"
      ]
    },
    {
      "cell_type": "code",
      "execution_count": null,
      "metadata": {
        "id": "65mxWSCNg8Gs"
      },
      "outputs": [],
      "source": [
        "import matplotlib.pyplot as plt\n",
        "import numpy as np"
      ]
    },
    {
      "cell_type": "code",
      "source": [
        "reconstruction_loss=[]\n",
        "for model in models:\n",
        "  loss=model.evaluate()\n",
        "  reconstruction_loss.append(loss)\n",
        "  print(\"loss for {} channels: {}\".format(model.bottleneck.channels_num, loss))"
      ],
      "metadata": {
        "id": "pCZiyafhxBal"
      },
      "execution_count": null,
      "outputs": []
    },
    {
      "cell_type": "code",
      "execution_count": null,
      "metadata": {
        "id": "D7eRyU0wl82E",
        "colab": {
          "base_uri": "https://localhost:8080/",
          "height": 295
        },
        "outputId": "91f6e192-8d5c-40b7-f5f0-86ede713f7f7"
      },
      "outputs": [
        {
          "output_type": "display_data",
          "data": {
            "text/plain": [
              "<Figure size 432x288 with 1 Axes>"
            ],
            "image/png": "[encoded data removed]"
          },
          "metadata": {
            "needs_background": "light"
          }
        }
      ],
      "source": [
        "xpoints = np.array(channels_list)\n",
        "ypoints = np.array(reconstruction_loss)\n",
        "\n",
        "plt.plot(xpoints, ypoints, 'bo')\n",
        "plt.title(\"Reconstruction MSE Loss by Channel Number\")\n",
        "plt.xlabel(\"channel number\")\n",
        "plt.ylabel(\"Reconstruction MSE Loss\")\n",
        "\n",
        "plt.show()"
      ]
    },
    {
      "cell_type": "code",
      "source": [
        "train_data_list=[]\n",
        "for model in models:\n",
        "  train_data_list.append(model.train_normalize_losses)\n",
        "x_values=[10*(a+1) for a in range(len(train_data_list[0]))]"
      ],
      "metadata": {
        "id": "GVbW0xuu4Lse"
      },
      "execution_count": null,
      "outputs": []
    },
    {
      "cell_type": "code",
      "source": [
        "xpoints = np.array(x_values)\n",
        "for (loss, chan) in zip(train_data_list, channels_list):\n",
        "  ypoints=np.clip(np.array(loss),0, 2)\n",
        "  plt.plot(xpoints, ypoints, label=chan)\n",
        "\n",
        "plt.title(\"Normalize Training Loss\")\n",
        "plt.xlabel(\"Batch\")\n",
        "plt.ylabel(\"Normallize Reconstruction MSE Loss\")\n",
        "plt.legend(loc='best')\n",
        "\n",
        "plt.show()"
      ],
      "metadata": {
        "colab": {
          "base_uri": "https://localhost:8080/",
          "height": 295
        },
        "id": "IBZcBNH45BbO",
        "outputId": "45826c1a-d064-435b-b74f-ec7d455f02f8"
      },
      "execution_count": null,
      "outputs": [
        {
          "output_type": "display_data",
          "data": {
            "text/plain": [
              "<Figure size 432x288 with 1 Axes>"
            ],
            "image/png": "[encoded data removed]"
          },
          "metadata": {
            "needs_background": "light"
          }
        }
      ]
    },
    {
      "cell_type": "markdown",
      "metadata": {
        "id": "mNk7b3mcZlf4"
      },
      "source": [
        "# **FID Calculation**"
      ]
    },
    {
      "cell_type": "code",
      "source": [
        "!pip install lmdb"
      ],
      "metadata": {
        "colab": {
          "base_uri": "https://localhost:8080/"
        },
        "id": "t4IKUfM-2gD4",
        "outputId": "c28fb670-ff81-4f71-9905-0e95496176f1"
      },
      "execution_count": null,
      "outputs": [
        {
          "output_type": "stream",
          "name": "stdout",
          "text": [
            "Looking in indexes: https://pypi.org/simple, https://us-python.pkg.dev/colab-wheels/public/simple/\n",
            "Collecting lmdb\n",
            "  Downloading lmdb-1.4.0-cp39-cp39-manylinux_2_12_x86_64.manylinux2010_x86_64.whl (305 kB)\n",
            "\u001b[2K     \u001b[90m━━━━━━━━━━━━━━━━━━━━━━━━━━━━━━━━━━━━━━\u001b[0m \u001b[32m305.9/305.9 KB\u001b[0m \u001b[31m23.6 MB/s\u001b[0m eta \u001b[36m0:00:00\u001b[0m\n",
            "\u001b[?25hInstalling collected packages: lmdb\n",
            "Successfully installed lmdb-1.4.0\n"
          ]
        }
      ]
    },
    {
      "cell_type": "code",
      "execution_count": null,
      "metadata": {
        "id": "BAuz-OH_ZruA"
      },
      "outputs": [],
      "source": [
        "from fid import calc_fid\n",
        "from calc_inception import load_patched_inception_v3\n",
        "import numpy as np\n",
        "import os\n",
        "import urllib.request\n",
        "import shutil\n",
        "\n",
        "# FID calculation with bottleneck.\n",
        "def calc_fid_with_bottleneck(model: GeneratorWithBottleneck, n_sample:int =50000) -> float:\n",
        "    inception = nn.DataParallel(load_patched_inception_v3()).to(\"cuda\")\n",
        "    inception.eval()\n",
        "\n",
        "    features = extract_feature_from_samples(model, inception, n_sample).numpy()\n",
        "    sample_mean = np.mean(features, 0)\n",
        "    sample_cov = np.cov(features, rowvar=False)\n",
        "    real_mean, real_cov=get_stats()\n",
        "    fid = calc_fid(sample_mean, sample_cov, real_mean, real_cov)\n",
        "\n",
        "    return fid\n",
        "\n",
        "# Given generator and bottleneck extract features for FID calculation.\n",
        "def extract_feature_from_samples(model: GeneratorWithBottleneck, inception,n_sample, batch_size=32):\n",
        "    with torch.no_grad():\n",
        "        n_batch = n_sample // batch_size\n",
        "        resid = n_sample - (n_batch * batch_size)\n",
        "        batch_sizes = [batch_size] * n_batch + [resid]\n",
        "        features = []\n",
        "\n",
        "        for batch in batch_sizes:\n",
        "            latent=model.get_latent(batch_size)\n",
        "            img=model(latent)\n",
        "            feat = inception(img)[0].view(img.shape[0], -1)\n",
        "            features.append(feat.to(\"cpu\"))\n",
        "\n",
        "        features = torch.cat(features, 0)\n",
        "        return features\n",
        "    \n",
        "# Returns the statics for FID calculation.\n",
        "def get_stats():\n",
        "    base_url = \"https://www.cs.cmu.edu/~clean-fid/stats/\"\n",
        "    rel_path = (\"FFHQ_clean_trainval70k_1024.npz\").lower()\n",
        "    url = f\"{base_url}/{rel_path}\"\n",
        "    mod_path = os.path.dirname(\".\")\n",
        "    stats_folder = os.path.join(mod_path, \"stats\")\n",
        "    fpath = check_download_url(local_folder=stats_folder, url=url)\n",
        "    stats = np.load(fpath)\n",
        "    mu, sigma = stats[\"mu\"], stats[\"sigma\"]\n",
        "    return mu, sigma\n",
        "\n",
        "# Download the information if it doesn't exist.\n",
        "def check_download_url(local_folder, url):\n",
        "    name = os.path.basename(url)\n",
        "    local_path = os.path.join(local_folder, name)\n",
        "    if not os.path.exists(local_path):\n",
        "        os.makedirs(local_folder, exist_ok=True)\n",
        "        print(f\"downloading statistics to {local_path}\")\n",
        "        with urllib.request.urlopen(url) as response, open(local_path, 'wb') as f:\n",
        "            shutil.copyfileobj(response, f)\n",
        "    return local_path"
      ]
    },
    {
      "cell_type": "code",
      "execution_count": null,
      "metadata": {
        "id": "XG-M7rIkg6I8"
      },
      "outputs": [],
      "source": [
        "fids=[]\n",
        "for model in models:\n",
        "  fids.append(calc_fid_with_bottleneck(model))"
      ]
    },
    {
      "cell_type": "code",
      "execution_count": null,
      "metadata": {
        "id": "J-13ejVMhSiz"
      },
      "outputs": [],
      "source": [
        "xpoints = np.array(channels_list)\n",
        "ypoints = np.array(fids)\n",
        "\n",
        "plt.plot(xpoints, ypoints, 'bo')\n",
        "plt.title(\"FID by Channel Number\")\n",
        "plt.xlabel(\"channel number\")\n",
        "plt.ylabel(\"FID\")\n",
        "\n",
        "plt.show()"
      ]
    },
    {
      "cell_type": "markdown",
      "source": [
        "# **Find Best Channel Number**"
      ],
      "metadata": {
        "id": "Y2Fg18oWjIQb"
      }
    },
    {
      "cell_type": "markdown",
      "source": [
        "We want to find the minimum channel number where the visual results are still excellent. To do this we can use binary search on the channel number guided by an FID limit."
      ],
      "metadata": {
        "id": "EqwKeJR2jN1L"
      }
    },
    {
      "cell_type": "code",
      "source": [
        "# Returns the minimum number of channels where the FID is under the fid_limit.\n",
        "# The resolution parameter control the max difference from the optimal channels num.\n",
        "def binary_search(generator: Generator, block_index: int, channel_limit: int, fid_limit: int, resolution: int = 0, \n",
        "                  train_batches:int =15000, fid_sampels:int =50000,print_results: bool = True) -> int:\n",
        "    print(\"start binary search:\")\n",
        "    high = channel_limit\n",
        "    low = 1\n",
        "    mid = 0\n",
        "    while high-low > resolution*2:\n",
        "        mid = (high+low)//2\n",
        "        print(\"start train on {}\".format(mid))\n",
        "        model=GeneratorWithBottleneck(generator,channels_num = mid, block_index = block_index)\n",
        "        model.train(batches=train_batches)\n",
        "        cur_fid=calc_fid_with_bottleneck(model, n_sample=fid_sampels)\n",
        "        if print_results:\n",
        "            print(\"{}: {}\".format(mid, cur_fid))\n",
        "        if cur_fid > fid_limit:\n",
        "            low = mid+1\n",
        "        else:\n",
        "            high = mid\n",
        "    return (high+low)//2"
      ],
      "metadata": {
        "id": "_6TOsJqzmrSy"
      },
      "execution_count": null,
      "outputs": []
    }
  ],
  "metadata": {
    "accelerator": "GPU",
    "colab": {
      "provenance": []
    },
    "gpuClass": "standard",
    "kernelspec": {
      "display_name": "Python 3",
      "name": "python3"
    },
    "language_info": {
      "name": "python"
    }
  },
  "nbformat": 4,
  "nbformat_minor": 0
}